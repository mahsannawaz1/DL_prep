{
  "metadata": {
    "kernelspec": {
      "name": "python",
      "display_name": "Python (Pyodide)",
      "language": "python"
    },
    "language_info": {
      "codemirror_mode": {
        "name": "python",
        "version": 3
      },
      "file_extension": ".py",
      "mimetype": "text/x-python",
      "name": "python",
      "nbconvert_exporter": "python",
      "pygments_lexer": "ipython3",
      "version": "3.8"
    }
  },
  "nbformat_minor": 4,
  "nbformat": 4,
  "cells": [
    {
      "cell_type": "code",
      "source": "from sklearn.datasets import make_regression\nimport matplotlib.pyplot as plt\nimport numpy as np",
      "metadata": {
        "trusted": true
      },
      "outputs": [
        {
          "name": "stderr",
          "output_type": "stream",
          "text": "Matplotlib is building the font cache; this may take a moment.\n"
        }
      ],
      "execution_count": 2
    },
    {
      "cell_type": "code",
      "source": "# Here we will take some random data with 1 input parameters and apply Gradient Descent technique to update the weights and bias in order to make a lieanr regression model which gives us a value at last.",
      "metadata": {
        "trusted": true
      },
      "outputs": [],
      "execution_count": null
    },
    {
      "cell_type": "code",
      "source": "X,y = make_regression(n_samples = 100,n_features=1,n_informative=1,n_targets=1,noise=20)",
      "metadata": {
        "trusted": true
      },
      "outputs": [],
      "execution_count": 3
    },
    {
      "cell_type": "code",
      "source": "plt.scatter(X,y)",
      "metadata": {
        "trusted": true
      },
      "outputs": [
        {
          "execution_count": 4,
          "output_type": "execute_result",
          "data": {
            "text/plain": "<matplotlib.collections.PathCollection at 0x86f5f68>"
          },
          "metadata": {}
        },
        {
          "output_type": "display_data",
          "data": {
            "text/plain": "<Figure size 640x480 with 1 Axes>",
            "image/png": "[encoded data removed]"
          },
          "metadata": {}
        }
      ],
      "execution_count": 4
    },
    {
      "cell_type": "code",
      "source": "from sklearn.linear_model import LinearRegression ",
      "metadata": {
        "trusted": true
      },
      "outputs": [],
      "execution_count": 6
    },
    {
      "cell_type": "code",
      "source": "lr = LinearRegression()",
      "metadata": {
        "trusted": true
      },
      "outputs": [],
      "execution_count": 7
    },
    {
      "cell_type": "code",
      "source": "lr.fit(X,y)\nprint(lr.coef_)\nprint(lr.intercept_)",
      "metadata": {
        "trusted": true
      },
      "outputs": [
        {
          "name": "stdout",
          "output_type": "stream",
          "text": "[94.75537494]\n-0.3209358543744618\n"
        }
      ],
      "execution_count": 8
    },
    {
      "cell_type": "code",
      "source": "m = 94.75",
      "metadata": {
        "trusted": true
      },
      "outputs": [],
      "execution_count": 16
    },
    {
      "cell_type": "code",
      "source": "class GDRegressor():\n\n    def __init__(self,learning_rate,epochs):\n        self.m = 94.75\n        self.b = -120\n        self.lr = learning_rate\n        self.epochs = epochs\n    def fit(self,X,y):\n        #calculate b using GradientDescent\n        for i in range(self.epochs):\n            loss_slope = -2 * np.sum(y - (self.m * X.ravel() + self.b))\n            step_size = self.lr * loss_slope\n            self.b = self.b - step_size\n        print(self.b)\n        \n    ",
      "metadata": {
        "trusted": true
      },
      "outputs": [],
      "execution_count": 50
    },
    {
      "cell_type": "code",
      "source": "gd = GDRegressor(0.001,100)\ngd.fit(X,y)",
      "metadata": {
        "trusted": true,
        "scrolled": true
      },
      "outputs": [
        {
          "name": "stdout",
          "output_type": "stream",
          "text": "-0.32073414396089106\n"
        }
      ],
      "execution_count": 51
    },
    {
      "cell_type": "code",
      "source": "",
      "metadata": {
        "trusted": true
      },
      "outputs": [],
      "execution_count": null
    }
  ]
}